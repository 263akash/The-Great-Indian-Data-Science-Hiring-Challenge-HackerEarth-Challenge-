{
 "cells": [
  {
   "cell_type": "code",
   "execution_count": 328,
   "metadata": {},
   "outputs": [
    {
     "data": {
      "text/html": [
       "<div>\n",
       "<style scoped>\n",
       "    .dataframe tbody tr th:only-of-type {\n",
       "        vertical-align: middle;\n",
       "    }\n",
       "\n",
       "    .dataframe tbody tr th {\n",
       "        vertical-align: top;\n",
       "    }\n",
       "\n",
       "    .dataframe thead th {\n",
       "        text-align: right;\n",
       "    }\n",
       "</style>\n",
       "<table border=\"1\" class=\"dataframe\">\n",
       "  <thead>\n",
       "    <tr style=\"text-align: right;\">\n",
       "      <th></th>\n",
       "      <th>Inv_Id</th>\n",
       "      <th>Vendor_Code</th>\n",
       "      <th>GL_Code</th>\n",
       "      <th>Inv_Amt</th>\n",
       "      <th>Item_Description</th>\n",
       "      <th>Product_Category</th>\n",
       "    </tr>\n",
       "  </thead>\n",
       "  <tbody>\n",
       "    <tr>\n",
       "      <th>0</th>\n",
       "      <td>1</td>\n",
       "      <td>VENDOR-61</td>\n",
       "      <td>GL-6050100</td>\n",
       "      <td>6.973473</td>\n",
       "      <td>AETNA VARIABLE FUND - Apr-2002 - Store Managem...</td>\n",
       "      <td>CLASS-784</td>\n",
       "    </tr>\n",
       "    <tr>\n",
       "      <th>1</th>\n",
       "      <td>2</td>\n",
       "      <td>VENDOR-61</td>\n",
       "      <td>GL-6050100</td>\n",
       "      <td>25.053841</td>\n",
       "      <td>AETNA VARIABLE FUND - Nov-2000 - Store Managem...</td>\n",
       "      <td>CLASS-784</td>\n",
       "    </tr>\n",
       "    <tr>\n",
       "      <th>2</th>\n",
       "      <td>3</td>\n",
       "      <td>VENDOR-449</td>\n",
       "      <td>GL-6050100</td>\n",
       "      <td>53.573737</td>\n",
       "      <td>FAIRCHILD CORP - Nov-2001 - Store Management R...</td>\n",
       "      <td>CLASS-784</td>\n",
       "    </tr>\n",
       "    <tr>\n",
       "      <th>3</th>\n",
       "      <td>4</td>\n",
       "      <td>VENDOR-682</td>\n",
       "      <td>GL-6050100</td>\n",
       "      <td>67.388827</td>\n",
       "      <td>CALIFORNIA REAL ESTATE INVESTMENT TRUST - Aug-...</td>\n",
       "      <td>CLASS-784</td>\n",
       "    </tr>\n",
       "    <tr>\n",
       "      <th>4</th>\n",
       "      <td>5</td>\n",
       "      <td>VENDOR-682</td>\n",
       "      <td>GL-6050100</td>\n",
       "      <td>74.262047</td>\n",
       "      <td>CALIFORNIA REAL ESTATE INVESTMENT TRUST - Mar-...</td>\n",
       "      <td>CLASS-784</td>\n",
       "    </tr>\n",
       "  </tbody>\n",
       "</table>\n",
       "</div>"
      ],
      "text/plain": [
       "   Inv_Id Vendor_Code     GL_Code    Inv_Amt  \\\n",
       "0       1   VENDOR-61  GL-6050100   6.973473   \n",
       "1       2   VENDOR-61  GL-6050100  25.053841   \n",
       "2       3  VENDOR-449  GL-6050100  53.573737   \n",
       "3       4  VENDOR-682  GL-6050100  67.388827   \n",
       "4       5  VENDOR-682  GL-6050100  74.262047   \n",
       "\n",
       "                                    Item_Description Product_Category  \n",
       "0  AETNA VARIABLE FUND - Apr-2002 - Store Managem...        CLASS-784  \n",
       "1  AETNA VARIABLE FUND - Nov-2000 - Store Managem...        CLASS-784  \n",
       "2  FAIRCHILD CORP - Nov-2001 - Store Management R...        CLASS-784  \n",
       "3  CALIFORNIA REAL ESTATE INVESTMENT TRUST - Aug-...        CLASS-784  \n",
       "4  CALIFORNIA REAL ESTATE INVESTMENT TRUST - Mar-...        CLASS-784  "
      ]
     },
     "execution_count": 328,
     "metadata": {},
     "output_type": "execute_result"
    }
   ],
   "source": [
    "import pandas as pd\n",
    "import numpy as np\n",
    "data=pd.read_csv('Train.csv')\n",
    "data.head(5)"
   ]
  },
  {
   "cell_type": "code",
   "execution_count": 330,
   "metadata": {},
   "outputs": [
    {
     "name": "stdout",
     "output_type": "stream",
     "text": [
      "9\n",
      "1313\n",
      "5719\n",
      "5118\n",
      "(5719, 6)\n",
      "(5719, 5)\n"
     ]
    }
   ],
   "source": [
    "#Data analysis\n",
    "print (data.GL_Code.nunique())\n",
    "print (data.Vendor_Code.nunique())\n",
    "print (data.Inv_Amt.nunique())\n",
    "print (data.Item_Description.nunique())\n",
    "print (data.shape)\n",
    "data1=data.drop('Inv_Id',axis=1)   #Id is just the sequence, so droping it\n",
    "#data1=data1.drop_duplicates(subset={'Vendor_Code','GL_Code'},keep='first',inplace=False) #droping dulicate entry if any\n",
    "data1.head()\n",
    "#data.isnull().sum() checking is any data entry is missing\n",
    "from sklearn.preprocessing import LabelEncoder\n",
    "le=LabelEncoder()\n",
    "data1['Vendor_Code']=le.fit_transform(data1['Vendor_Code'])\n",
    "data1['GL_Code']=le.fit_transform(data1['GL_Code'])\n",
    "data1['Product_Category']=onhot.fit_transform(data1['Product_Category']) \n",
    "#data1['Product_Category']=onhot.fit_transform(data1['Product_Category'])  # for invererse Label encoder\n",
    "print (data1.shape)"
   ]
  },
  {
   "cell_type": "code",
   "execution_count": 331,
   "metadata": {},
   "outputs": [],
   "source": [
    "# Feature Engineering\n",
    "from nltk.corpus import stopwords\n",
    "sw = stopwords.words(\"english\")\n",
    "import re\n",
    "from nltk.stem.snowball import SnowballStemmer,PorterStemmer\n",
    "import string\n",
    "def clean_text(text):\n",
    "    ## Remove puncuation\n",
    "    text = text.translate(string.punctuation)\n",
    "    ## Convert words to lower case and split them\n",
    "    text = text.lower().split()\n",
    "    ## Remove stop words\n",
    "    text = [w for w in text if not w in sw and len(w) >= 3]\n",
    "    text = \" \".join(text)\n",
    "    ## Clean the text\n",
    "    text = re.sub(r\"[^A-Za-z0-9^,!.\\/'+-=]\", \" \", text)\n",
    "    text = re.sub(r\"what's\", \"what is \", text)\n",
    "    text = re.sub(r\"\\'s\", \" \", text)\n",
    "    text = re.sub(r\"\\'ve\", \" have \", text)\n",
    "    text = re.sub(r\"n't\", \" not \", text)\n",
    "    text = re.sub(r\"i'm\", \"i am \", text)\n",
    "    text = re.sub(r\"\\'re\", \" are \", text)\n",
    "    text = re.sub(r\"\\'d\", \" would \", text)\n",
    "    text = re.sub(r\"\\'ll\", \" will \", text)\n",
    "    text = re.sub(r\",\", \" \", text)\n",
    "    text = re.sub(r\"\\.\", \" \", text)\n",
    "    text = re.sub(r\"!\", \" ! \", text)\n",
    "    text = re.sub(r\"\\/\", \" \", text)\n",
    "    text = re.sub(r\"\\^\", \" ^ \", text)\n",
    "    text = re.sub(r\"\\+\", \" + \", text)\n",
    "    text = re.sub(r\"\\-\", \" - \", text)\n",
    "    text = re.sub(r\"\\=\", \" = \", text)\n",
    "    text = re.sub(r\"'\", \" \", text)\n",
    "    text = re.sub(r\"(\\d+)(k)\", r\"\\g<1>000\", text)\n",
    "    text = re.sub(r\":\", \" : \", text)\n",
    "    text = re.sub(r\" e g \", \" eg \", text)\n",
    "    text = re.sub(r\" b g \", \" bg \", text)\n",
    "    text = re.sub(r\" u s \", \" american \", text)\n",
    "    text = re.sub(r\"\\0s\", \"0\", text)\n",
    "    text = re.sub(r\" 9 11 \", \"911\", text)\n",
    "    text = re.sub(r\"e - mail\", \"email\", text)\n",
    "    text = re.sub(r\"j k\", \"jk\", text)\n",
    "    text = re.sub(r\"\\s{2,}\", \" \", text)\n",
    "    ## Stemming\n",
    "    txt = text.split()\n",
    "    text = [i for i in txt if i.isalpha()]\n",
    "    stemmer = SnowballStemmer('english')\n",
    "    stemmed_words = [stemmer.stem(word) for word in text]\n",
    "    text = \" \".join(stemmed_words)\n",
    "    text=text.lower()\n",
    "    return text\n",
    "descp=data1['Item_Description']\n",
    "descp=descp.apply(clean_text)"
   ]
  },
  {
   "cell_type": "code",
   "execution_count": 332,
   "metadata": {},
   "outputs": [],
   "source": [
    "from sklearn.feature_extraction.text import TfidfVectorizer\n",
    "tfvec=TfidfVectorizer(min_df=3, max_features=1000,strip_accents='unicode', analyzer='word', token_pattern=r'\\w{1,}',ngram_range=(1, 3), use_idf=1, smooth_idf=1, sublinear_tf=1)\n",
    "transvec=tfvec.fit_transform(descp)\n",
    "#transvec.shape\n",
    "df=pd.DataFrame(transvec.toarray(), columns=tfvec.get_feature_names())\n",
    "new_df=pd.concat([data1,df],axis=1)\n",
    "new_df.drop('Item_Description',axis=1,inplace=True)"
   ]
  },
  {
   "cell_type": "code",
   "execution_count": null,
   "metadata": {},
   "outputs": [],
   "source": []
  },
  {
   "cell_type": "code",
   "execution_count": 333,
   "metadata": {},
   "outputs": [],
   "source": [
    "# Saving new modified data file after featured engineering\n",
    "new_df.to_csv('Modified.csv')"
   ]
  },
  {
   "cell_type": "code",
   "execution_count": 334,
   "metadata": {},
   "outputs": [
    {
     "data": {
      "text/plain": [
       "(1430, 1003)"
      ]
     },
     "execution_count": 334,
     "metadata": {},
     "output_type": "execute_result"
    }
   ],
   "source": [
    "#reading modified data file\n",
    "mod_data=pd.read_csv('Modified.csv')\n",
    "mod_data.drop(['Unnamed: 0'],axis=1,inplace=True)\n",
    "X=mod_data.loc[:,mod_data.columns !='Product_Category']\n",
    "Y=mod_data.loc[:,'Product_Category']\n",
    "#splitting into train test split\n",
    "from sklearn.model_selection import train_test_split\n",
    "x_train,x_test,y_train,y_test=train_test_split(X,Y,test_size=0.25)\n",
    "from sklearn.ensemble import RandomForestClassifier\n",
    "rfc=RandomForestClassifier(n_estimators=400,max_depth=40)\n",
    "rfc.fit(x_train,y_train)\n",
    "y_pred=rfc.predict(x_test)\n",
    "x_test.shape"
   ]
  },
  {
   "cell_type": "code",
   "execution_count": 335,
   "metadata": {},
   "outputs": [
    {
     "data": {
      "text/plain": [
       "(1430, 1003)"
      ]
     },
     "execution_count": 335,
     "metadata": {},
     "output_type": "execute_result"
    }
   ],
   "source": [
    "x_test.shape"
   ]
  },
  {
   "cell_type": "code",
   "execution_count": 336,
   "metadata": {},
   "outputs": [
    {
     "data": {
      "text/plain": [
       "0.9986013986013986"
      ]
     },
     "execution_count": 336,
     "metadata": {},
     "output_type": "execute_result"
    }
   ],
   "source": [
    "pd.DataFrame(y_pred)\n",
    "from sklearn.metrics import accuracy_score\n",
    "accuracy_score(y_test,y_pred)"
   ]
  },
  {
   "cell_type": "code",
   "execution_count": 337,
   "metadata": {},
   "outputs": [],
   "source": [
    "#loading the test csv\n",
    "test_df=pd.read_csv('Test.csv')\n",
    "test_df_id=test_df['Inv_Id']\n",
    "from sklearn.preprocessing import LabelEncoder\n",
    "le=LabelEncoder()\n",
    "test_df['Vendor_Code']=le.fit_transform(test_df['Vendor_Code'])\n",
    "test_df['GL_Code']=le.fit_transform(test_df['GL_Code'])\n",
    "test_df.drop('Inv_Id',axis=1,inplace=True)\n",
    "test_descp=test_df['Item_Description']\n",
    "test_descp=test_descp.apply(clean_text)  #applying cleaning text"
   ]
  },
  {
   "cell_type": "code",
   "execution_count": 338,
   "metadata": {},
   "outputs": [
    {
     "data": {
      "text/plain": [
       "(2292, 1003)"
      ]
     },
     "execution_count": 338,
     "metadata": {},
     "output_type": "execute_result"
    }
   ],
   "source": [
    "from sklearn.feature_extraction.text import TfidfVectorizer\n",
    "test_tfvec=TfidfVectorizer(min_df=3, max_features=1000,strip_accents='unicode', analyzer='word', token_pattern=r'\\w{1,}',ngram_range=(1, 3), use_idf=1, smooth_idf=1, sublinear_tf=1)\n",
    "test_transvec=test_tfvec.fit_transform(test_descp)\n",
    "df=pd.DataFrame(test_transvec.toarray(), columns=test_tfvec.get_feature_names())\n",
    "test_df=pd.concat([test_df,df],axis=1)\n",
    "test_df.drop('Item_Description',axis=1,inplace=True)\n",
    "test_df.shape"
   ]
  },
  {
   "cell_type": "code",
   "execution_count": 343,
   "metadata": {},
   "outputs": [],
   "source": [
    "test_pred=rfc.predict(test_df)\n",
    "test_pred_result=pd.DataFrame(test_pred)\n",
    "test_pred_result.columns=['Product_Category']\n",
    "test_pred_result.insert(0,'Inv_Id',test_df_id)\n",
    "test_pred_result['Product_Category']=le.inverse_transform(test_pred_result['Product_Category'])\n",
    "test_pred_result.to_csv('submission.csv',index=False)"
   ]
  },
  {
   "cell_type": "code",
   "execution_count": 344,
   "metadata": {},
   "outputs": [
    {
     "data": {
      "text/html": [
       "<div>\n",
       "<style scoped>\n",
       "    .dataframe tbody tr th:only-of-type {\n",
       "        vertical-align: middle;\n",
       "    }\n",
       "\n",
       "    .dataframe tbody tr th {\n",
       "        vertical-align: top;\n",
       "    }\n",
       "\n",
       "    .dataframe thead th {\n",
       "        text-align: right;\n",
       "    }\n",
       "</style>\n",
       "<table border=\"1\" class=\"dataframe\">\n",
       "  <thead>\n",
       "    <tr style=\"text-align: right;\">\n",
       "      <th></th>\n",
       "      <th>Inv_Id</th>\n",
       "      <th>Product_Category</th>\n",
       "    </tr>\n",
       "  </thead>\n",
       "  <tbody>\n",
       "    <tr>\n",
       "      <th>0</th>\n",
       "      <td>6</td>\n",
       "      <td>CLASS-75</td>\n",
       "    </tr>\n",
       "    <tr>\n",
       "      <th>1</th>\n",
       "      <td>12</td>\n",
       "      <td>CLASS-75</td>\n",
       "    </tr>\n",
       "    <tr>\n",
       "      <th>2</th>\n",
       "      <td>14</td>\n",
       "      <td>CLASS-75</td>\n",
       "    </tr>\n",
       "    <tr>\n",
       "      <th>3</th>\n",
       "      <td>18</td>\n",
       "      <td>CLASS-75</td>\n",
       "    </tr>\n",
       "    <tr>\n",
       "      <th>4</th>\n",
       "      <td>19</td>\n",
       "      <td>CLASS-75</td>\n",
       "    </tr>\n",
       "  </tbody>\n",
       "</table>\n",
       "</div>"
      ],
      "text/plain": [
       "   Inv_Id Product_Category\n",
       "0       6         CLASS-75\n",
       "1      12         CLASS-75\n",
       "2      14         CLASS-75\n",
       "3      18         CLASS-75\n",
       "4      19         CLASS-75"
      ]
     },
     "execution_count": 344,
     "metadata": {},
     "output_type": "execute_result"
    }
   ],
   "source": [
    "test_pred_result.head()"
   ]
  },
  {
   "cell_type": "code",
   "execution_count": 340,
   "metadata": {},
   "outputs": [],
   "source": [
    "data['test']=le.fit_transform(data['Product_Category'])  ## For reversing the Labelencoder value\n"
   ]
  }
 ],
 "metadata": {
  "kernelspec": {
   "display_name": "Python 3",
   "language": "python",
   "name": "python3"
  },
  "language_info": {
   "codemirror_mode": {
    "name": "ipython",
    "version": 3
   },
   "file_extension": ".py",
   "mimetype": "text/x-python",
   "name": "python",
   "nbconvert_exporter": "python",
   "pygments_lexer": "ipython3",
   "version": "3.6.7"
  }
 },
 "nbformat": 4,
 "nbformat_minor": 2
}
